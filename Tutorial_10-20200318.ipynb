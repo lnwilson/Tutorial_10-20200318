{
 "cells": [
  {
   "cell_type": "markdown",
   "metadata": {
    "editable": false
   },
   "source": [
    "# Tutorial 10: Hypothesis test for one proportion #\n"
   ]
  },
  {
   "cell_type": "markdown",
   "metadata": {
    "editable": false
   },
   "source": [
    "## Objectives: ##\n",
    "To become familiar with the steps for completing a hypothesis test for one proportion."
   ]
  },
  {
   "cell_type": "markdown",
   "metadata": {
    "editable": false
   },
   "source": [
    "## Instructions: ##\n",
    "* You must complete the hypothesis test with all the steps as demonstrated in the example.\n",
    "* Unlike the example you must show all the calculations you completed in code cells.\n",
    "* Do not round any of the values you find.\n",
    "* All word questions must be answered with complete sentences."
   ]
  },
  {
   "cell_type": "markdown",
   "metadata": {
    "editable": false
   },
   "source": [
    "## Formulae: ##\n",
    "A z-score for any particular value, $v$: $$z = \\frac{v-\\mu_v}{\\sigma_v}$$\n",
    "For the sampling distribution of one proportion\n",
    "Mean: $$\\mu_{\\hat{p}} = p_0$$\n",
    "Standard Deviation: $$\\sigma_{\\hat{p}} = \\sqrt{\\frac{p_0(1-p_0)}{n}}$$"
   ]
  },
  {
   "cell_type": "markdown",
   "metadata": {
    "editable": false
   },
   "source": [
    "## Tools: ##"
   ]
  },
  {
   "cell_type": "code",
   "execution_count": 6,
   "metadata": {
    "editable": false
   },
   "outputs": [],
   "source": [
    "normalplot<-function(m,sd,region=0){\n",
    "  x<-seq(m-(3.5)*sd,m+(3.5)*sd,length=1000)\n",
    "  y<-dnorm(x,m,sd)\n",
    "  plot(x,y,type=\"l\",xlab=\"\",ylab=\"\", bty=\"n\", yaxt=\"n\")\n",
    "  h <- dnorm(m,m,sd)\n",
    "  z<-x[x>region[1]]\n",
    "  z<-z[z<region[2]]\n",
    "  polygon(c(region[1],z,region[2]),\n",
    "          c(0,dnorm(z,m,sd),0),col=\"gray\")\n",
    "  abline(v=m)\n",
    "  abline(h=0)}"
   ]
  },
  {
   "cell_type": "markdown",
   "metadata": {
    "editable": false
   },
   "source": [
    "## Data Information: ##\n",
    "\n",
    "There is no data for this tutorial\n"
   ]
  },
  {
   "cell_type": "markdown",
   "metadata": {
    "editable": false
   },
   "source": [
    "## Example: ##\n",
    "The type of answers I expect from students are shown in <font color=blue>blue</font> whenever possible.<br>Students are also expected to show the code (in code cells) used to calculate the the values in their answers."
   ]
  },
  {
   "cell_type": "markdown",
   "metadata": {
    "editable": false
   },
   "source": [
    "#### Question: ####\n",
    "My friend Sherzy claims that she was so sure of her answers for the first 35 questions in her French 30 exam that she didn't even read the rest of them, she just guessed. The exam consisted of 115 multiple choice questions each with 5 possible answers. However, given that Sherzy passed the exam (ie: recieved a grade of at least 50%).<br>Conduct a hypothesis test using $\\alpha = 0.1$ to test whether or not I should believe her."
   ]
  },
  {
   "cell_type": "markdown",
   "metadata": {
    "editable": false
   },
   "source": [
    "#### 1. State the Hypotheses ####\n",
    "<font color=blue>$H_0$: Sherzy guessed on each of the last sixty questions of the exam. $p=\\frac{1}{5}=0.2$<br>\n",
    "$H_A$: Sherzy did not guess on each of the last sixty questions of the exam. $p>0.2$</font>"
   ]
  },
  {
   "cell_type": "markdown",
   "metadata": {
    "editable": false
   },
   "source": [
    "#### 2. Choose the Level of Significance and Sample Size ####\n",
    "In this case we are 'choosing' the values we have been instructed to use in the question.<br>\n",
    "<font color=blue>$\\alpha = 0.1$ and $n = 80$</font><br>\n",
    "NOTE: It is often true that a field of study or type of experiment will have a standard level of significance that everyone uses if they wish their work to be accepted by their peers. As for sample size, if you are designing an experiment/study/survey you generally try to choose a sample size sufficiently large to allow you to use the normal distribution, if that is possible."
   ]
  },
  {
   "cell_type": "markdown",
   "metadata": {
    "editable": false
   },
   "source": [
    "#### 3. Describe the sampling distribution ####\n",
    "<font color = blue>If she didn't read any of the questions then we have an experiment consisting of 80 independent trials.<br>\n",
    "Since $np = 16 \\ge 10$ and $n(1-p) = 64 \\ge 10$ we can assume that $\\hat{p}$ ~ $N(0.2,0.0447213595499958)$</font>\n",
    "<BR>The value of the standard deviation was calculated using the formula listed in the formulae section."
   ]
  },
  {
   "cell_type": "markdown",
   "metadata": {
    "editable": false
   },
   "source": [
    "#### 4. Sketch the distribution of the test statistic ####"
   ]
  },
  {
   "cell_type": "code",
   "execution_count": 13,
   "metadata": {
    "editable": false
   },
   "outputs": [
    {
     "data": {
      "image/png": "[encoded data removed]",
      "text/plain": [
       "plot without title"
      ]
     },
     "metadata": {},
     "output_type": "display_data"
    }
   ],
   "source": [
    "normalplot(0.2,0.0447213595499958)"
   ]
  },
  {
   "cell_type": "markdown",
   "metadata": {
    "editable": false
   },
   "source": [
    "#### 5. Do the experiment ####\n",
    "<font color=blue>Sherzy wrote the exam and recieved a mark of at least 50% which means she chose the correct answer in at least 58/115 questions. The best case for guessing is if she got 100% of the questions she read correct, then she scored 35/115 at that point, which leaves her having to guess correctly for 23 of the 80 remaining questions.<br>\n",
    "Hence, $\\hat{p}= \\frac{23}{80}=0.2875$\n",
    "  </font>"
   ]
  },
  {
   "cell_type": "markdown",
   "metadata": {
    "editable": false
   },
   "source": [
    "#### 6. Calculate he test statistic and p-value ####\n",
    "The test statistic is the z-score for the results of the experiment.<br>\n",
    "<font color=blue>The test statistic, z = 1.956559480312.</font><br>\n",
    "The p-value is the probability you will get that value or more extreme.<br>\n",
    "For a left tail test we find $P(Z < z_{test})$<br>\n",
    "For a right tail test we find $P(Z > z_{test})$<br>\n",
    "For a two tail test we find $2 \\times P(Z > |z_{test}|)$ where $|z_{test}|$ is the absolute value of the test  statistic.<br>\n",
    "<font color=blue>The p-value for this test statistic is 0.0251996414357597.</font> - I used `pnorm` to find this value."
   ]
  },
  {
   "cell_type": "markdown",
   "metadata": {
    "editable": false
   },
   "source": [
    "#### 7. Make a conclusion ####\n",
    "<font color=blue> Since our p-value of 0.0251996414357597 is less than our level of significance, $\\alpha = 0.1$ by quite a bit we have strong evidence to reject the null hypothesis.<br>\n",
    " Thus, we have string evidence that suggests Sherzy did not pass her exam by guessing on the last 80 questions.</font>"
   ]
  },
  {
   "cell_type": "markdown",
   "metadata": {
    "editable": false
   },
   "source": [
    "## Question 1. Hypothesis test for proportion ##"
   ]
  },
  {
   "cell_type": "markdown",
   "metadata": {
    "editable": false
   },
   "source": [
    "I am convinced that my friend, Kylemar is cheating in our board game to ensure his friend Mikkal wins. I think that Kylemar's die is not a normal six sided die because it rolls a six far too infrequently.<br>I counted and determined that Kylemar rolled a six 10 times in 78 rolls.<br>\n",
    "Conduct a hypothesis test with a level of significance of 0.05 to determine if Kylemar is rolling a fair die. "
   ]
  },
  {
   "cell_type": "markdown",
   "metadata": {
    "editable": false
   },
   "source": [
    "#### 1. State the Hypotheses ####\n",
    "State each hypothesis in words and as an equation using the appropriate variable."
   ]
  },
  {
   "cell_type": "markdown",
   "metadata": {},
   "source": [
    "Write hypotheses in words and equations in this cell."
   ]
  },
  {
   "cell_type": "markdown",
   "metadata": {
    "editable": false
   },
   "source": [
    "#### 2. Choose the Level of Significance and Sample Size ####"
   ]
  },
  {
   "cell_type": "markdown",
   "metadata": {},
   "source": [
    "Enter your answer in the form of a sentence."
   ]
  },
  {
   "cell_type": "markdown",
   "metadata": {
    "editable": false
   },
   "source": [
    "#### 3. Describe the sampling distribution ####\n",
    "* Indicate how you know you can use the normal distribution<br>OR \n",
    "* why you shouldn't do so.\n",
    "\n",
    "Regardless of the results in this section continue the rest of the question as though the sampling distribution is approximately normal."
   ]
  },
  {
   "cell_type": "code",
   "execution_count": null,
   "metadata": {},
   "outputs": [],
   "source": [
    "Enter calculations in this cell."
   ]
  },
  {
   "cell_type": "code",
   "execution_count": null,
   "metadata": {},
   "outputs": [],
   "source": [
    "Enter calculations in this cell."
   ]
  },
  {
   "cell_type": "markdown",
   "metadata": {},
   "source": [
    "Enter your answer in the form of a sentence or three."
   ]
  },
  {
   "cell_type": "markdown",
   "metadata": {
    "editable": false
   },
   "source": [
    "#### 4. Sketch the distribution of the test statistic ####"
   ]
  },
  {
   "cell_type": "code",
   "execution_count": null,
   "metadata": {},
   "outputs": [],
   "source": [
    "Enter the instruction to sketch the distribution in this cell."
   ]
  },
  {
   "cell_type": "markdown",
   "metadata": {
    "editable": false
   },
   "source": [
    "#### 5. Do the experiment ####\n",
    "Write a sentence regarding the sample proportion found."
   ]
  },
  {
   "cell_type": "code",
   "execution_count": null,
   "metadata": {},
   "outputs": [],
   "source": [
    "Enter calculations in this cell."
   ]
  },
  {
   "cell_type": "markdown",
   "metadata": {},
   "source": [
    "Enter your answer in the form of a sentence or three."
   ]
  },
  {
   "cell_type": "markdown",
   "metadata": {
    "editable": false
   },
   "source": [
    "#### 6. Calculate he test statistic and p-value ####"
   ]
  },
  {
   "cell_type": "code",
   "execution_count": null,
   "metadata": {},
   "outputs": [],
   "source": [
    "Enter calculations in this cell."
   ]
  },
  {
   "cell_type": "code",
   "execution_count": null,
   "metadata": {},
   "outputs": [],
   "source": [
    "Enter calculations in this cell."
   ]
  },
  {
   "cell_type": "markdown",
   "metadata": {},
   "source": [
    "Enter your answer in the form of a sentence or three."
   ]
  },
  {
   "cell_type": "markdown",
   "metadata": {
    "editable": false
   },
   "source": [
    "#### 7. Make a conclusion ####"
   ]
  },
  {
   "cell_type": "markdown",
   "metadata": {},
   "source": [
    "Enter your answer in the form of a sentence or three."
   ]
  },
  {
   "cell_type": "markdown",
   "metadata": {
    "editable": false
   },
   "source": [
    "---\n",
    "---\n",
    "#### This tutorial is released under a Creative Commons Attribution-ShareAlike 3.0 Unported.\n",
    "\n",
    "This tutorial has been adapted from a lab that  was adapted for OpenIntro by Andrew Bray and Mine Çetinkaya-Rundel from a lab written by Mark Hansen of UCLA Statistics.\n",
    "\n",
    "---\n",
    "---"
   ]
  }
 ],
 "metadata": {
  "kernelspec": {
   "display_name": "R",
   "language": "R",
   "name": "ir"
  },
  "language_info": {
   "codemirror_mode": "r",
   "file_extension": ".r",
   "mimetype": "text/x-r-source",
   "name": "R",
   "pygments_lexer": "r",
   "version": "3.6.1"
  }
 },
 "nbformat": 4,
 "nbformat_minor": 2
}
